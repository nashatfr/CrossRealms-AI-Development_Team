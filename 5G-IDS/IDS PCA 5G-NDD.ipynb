{
 "cells": [
  {
   "cell_type": "code",
   "execution_count": 1,
   "id": "6e1485d7-3596-4e25-97dd-bb239776526b",
   "metadata": {},
   "outputs": [],
   "source": [
    "import pandas as pd\n",
    "import seaborn as sns\n",
    "import numpy as np\n",
    "import matplotlib.pyplot as plt\n",
    "import warnings\n",
    "warnings.filterwarnings(\"ignore\", category=FutureWarning)\n",
    "import sys   #to ignore warnings\n",
    "import os\n",
    "sys.stderr = open(os.devnull, 'w')\n",
    "from sklearn.preprocessing import LabelEncoder\n",
    "from sklearn.preprocessing import StandardScaler\n",
    "from sklearn.decomposition import PCA\n",
    "from sklearn.model_selection import train_test_split\n",
    "\n",
    "from sklearn.ensemble import RandomForestClassifier\n",
    "from sklearn.metrics import classification_report, accuracy_score,  make_scorer\n",
    "from xgboost import XGBClassifier\n",
    "from sklearn.model_selection import cross_val_score, StratifiedKFold"
   ]
  },
  {
   "cell_type": "code",
   "execution_count": 2,
   "id": "681bb6a5-09c5-4863-b8a2-a606b5fba40a",
   "metadata": {},
   "outputs": [],
   "source": [
    "df = pd.read_csv(r\"C:\\Users\\NSHAT\\crossrealms - intern\\datasets\\5G NDD\\5G-NDD.csv\")"
   ]
  },
  {
   "cell_type": "code",
   "execution_count": 3,
   "id": "700e6f68-a39e-424f-abca-fbe93b45a141",
   "metadata": {},
   "outputs": [
    {
     "data": {
      "text/plain": [
       "(1215890, 52)"
      ]
     },
     "execution_count": 3,
     "metadata": {},
     "output_type": "execute_result"
    }
   ],
   "source": [
    "df.shape"
   ]
  },
  {
   "cell_type": "code",
   "execution_count": 4,
   "id": "4e93c60e-4f50-4c0a-87e3-2b843b7bd579",
   "metadata": {},
   "outputs": [
    {
     "data": {
      "text/html": [
       "<div>\n",
       "<style scoped>\n",
       "    .dataframe tbody tr th:only-of-type {\n",
       "        vertical-align: middle;\n",
       "    }\n",
       "\n",
       "    .dataframe tbody tr th {\n",
       "        vertical-align: top;\n",
       "    }\n",
       "\n",
       "    .dataframe thead th {\n",
       "        text-align: right;\n",
       "    }\n",
       "</style>\n",
       "<table border=\"1\" class=\"dataframe\">\n",
       "  <thead>\n",
       "    <tr style=\"text-align: right;\">\n",
       "      <th></th>\n",
       "      <th>Unnamed: 0</th>\n",
       "      <th>Seq</th>\n",
       "      <th>Dur</th>\n",
       "      <th>RunTime</th>\n",
       "      <th>Mean</th>\n",
       "      <th>Sum</th>\n",
       "      <th>Min</th>\n",
       "      <th>Max</th>\n",
       "      <th>Proto</th>\n",
       "      <th>sTos</th>\n",
       "      <th>...</th>\n",
       "      <th>sVid</th>\n",
       "      <th>dVid</th>\n",
       "      <th>SrcTCPBase</th>\n",
       "      <th>DstTCPBase</th>\n",
       "      <th>TcpRtt</th>\n",
       "      <th>SynAck</th>\n",
       "      <th>AckDat</th>\n",
       "      <th>Label</th>\n",
       "      <th>Attack Type</th>\n",
       "      <th>Attack Tool</th>\n",
       "    </tr>\n",
       "  </thead>\n",
       "  <tbody>\n",
       "    <tr>\n",
       "      <th>0</th>\n",
       "      <td>0</td>\n",
       "      <td>1</td>\n",
       "      <td>0.000000</td>\n",
       "      <td>0.000000</td>\n",
       "      <td>0.000000</td>\n",
       "      <td>0.000000</td>\n",
       "      <td>0.000000</td>\n",
       "      <td>0.000000</td>\n",
       "      <td>icmp</td>\n",
       "      <td>0.0</td>\n",
       "      <td>...</td>\n",
       "      <td>NaN</td>\n",
       "      <td>NaN</td>\n",
       "      <td>NaN</td>\n",
       "      <td>NaN</td>\n",
       "      <td>0.0</td>\n",
       "      <td>0.0</td>\n",
       "      <td>0.0</td>\n",
       "      <td>Benign</td>\n",
       "      <td>Benign</td>\n",
       "      <td>Benign</td>\n",
       "    </tr>\n",
       "    <tr>\n",
       "      <th>1</th>\n",
       "      <td>1</td>\n",
       "      <td>2</td>\n",
       "      <td>0.000000</td>\n",
       "      <td>0.000000</td>\n",
       "      <td>0.000000</td>\n",
       "      <td>0.000000</td>\n",
       "      <td>0.000000</td>\n",
       "      <td>0.000000</td>\n",
       "      <td>icmp</td>\n",
       "      <td>0.0</td>\n",
       "      <td>...</td>\n",
       "      <td>NaN</td>\n",
       "      <td>NaN</td>\n",
       "      <td>NaN</td>\n",
       "      <td>NaN</td>\n",
       "      <td>0.0</td>\n",
       "      <td>0.0</td>\n",
       "      <td>0.0</td>\n",
       "      <td>Benign</td>\n",
       "      <td>Benign</td>\n",
       "      <td>Benign</td>\n",
       "    </tr>\n",
       "    <tr>\n",
       "      <th>2</th>\n",
       "      <td>2</td>\n",
       "      <td>3</td>\n",
       "      <td>4.998020</td>\n",
       "      <td>4.998020</td>\n",
       "      <td>4.998020</td>\n",
       "      <td>4.998020</td>\n",
       "      <td>4.998020</td>\n",
       "      <td>4.998020</td>\n",
       "      <td>udp</td>\n",
       "      <td>0.0</td>\n",
       "      <td>...</td>\n",
       "      <td>NaN</td>\n",
       "      <td>NaN</td>\n",
       "      <td>NaN</td>\n",
       "      <td>NaN</td>\n",
       "      <td>0.0</td>\n",
       "      <td>0.0</td>\n",
       "      <td>0.0</td>\n",
       "      <td>Benign</td>\n",
       "      <td>Benign</td>\n",
       "      <td>Benign</td>\n",
       "    </tr>\n",
       "    <tr>\n",
       "      <th>3</th>\n",
       "      <td>3</td>\n",
       "      <td>4</td>\n",
       "      <td>4.998037</td>\n",
       "      <td>4.998037</td>\n",
       "      <td>4.998037</td>\n",
       "      <td>4.998037</td>\n",
       "      <td>4.998037</td>\n",
       "      <td>4.998037</td>\n",
       "      <td>udp</td>\n",
       "      <td>0.0</td>\n",
       "      <td>...</td>\n",
       "      <td>NaN</td>\n",
       "      <td>NaN</td>\n",
       "      <td>NaN</td>\n",
       "      <td>NaN</td>\n",
       "      <td>0.0</td>\n",
       "      <td>0.0</td>\n",
       "      <td>0.0</td>\n",
       "      <td>Benign</td>\n",
       "      <td>Benign</td>\n",
       "      <td>Benign</td>\n",
       "    </tr>\n",
       "    <tr>\n",
       "      <th>4</th>\n",
       "      <td>4</td>\n",
       "      <td>5</td>\n",
       "      <td>4.999453</td>\n",
       "      <td>4.999453</td>\n",
       "      <td>4.999453</td>\n",
       "      <td>4.999453</td>\n",
       "      <td>4.999453</td>\n",
       "      <td>4.999453</td>\n",
       "      <td>udp</td>\n",
       "      <td>0.0</td>\n",
       "      <td>...</td>\n",
       "      <td>NaN</td>\n",
       "      <td>NaN</td>\n",
       "      <td>NaN</td>\n",
       "      <td>NaN</td>\n",
       "      <td>0.0</td>\n",
       "      <td>0.0</td>\n",
       "      <td>0.0</td>\n",
       "      <td>Benign</td>\n",
       "      <td>Benign</td>\n",
       "      <td>Benign</td>\n",
       "    </tr>\n",
       "  </tbody>\n",
       "</table>\n",
       "<p>5 rows × 52 columns</p>\n",
       "</div>"
      ],
      "text/plain": [
       "   Unnamed: 0  Seq       Dur   RunTime      Mean       Sum       Min  \\\n",
       "0           0    1  0.000000  0.000000  0.000000  0.000000  0.000000   \n",
       "1           1    2  0.000000  0.000000  0.000000  0.000000  0.000000   \n",
       "2           2    3  4.998020  4.998020  4.998020  4.998020  4.998020   \n",
       "3           3    4  4.998037  4.998037  4.998037  4.998037  4.998037   \n",
       "4           4    5  4.999453  4.999453  4.999453  4.999453  4.999453   \n",
       "\n",
       "        Max Proto  sTos  ...  sVid dVid SrcTCPBase  DstTCPBase  TcpRtt  \\\n",
       "0  0.000000  icmp   0.0  ...   NaN  NaN        NaN         NaN     0.0   \n",
       "1  0.000000  icmp   0.0  ...   NaN  NaN        NaN         NaN     0.0   \n",
       "2  4.998020   udp   0.0  ...   NaN  NaN        NaN         NaN     0.0   \n",
       "3  4.998037   udp   0.0  ...   NaN  NaN        NaN         NaN     0.0   \n",
       "4  4.999453   udp   0.0  ...   NaN  NaN        NaN         NaN     0.0   \n",
       "\n",
       "   SynAck  AckDat   Label  Attack Type  Attack Tool  \n",
       "0     0.0     0.0  Benign       Benign       Benign  \n",
       "1     0.0     0.0  Benign       Benign       Benign  \n",
       "2     0.0     0.0  Benign       Benign       Benign  \n",
       "3     0.0     0.0  Benign       Benign       Benign  \n",
       "4     0.0     0.0  Benign       Benign       Benign  \n",
       "\n",
       "[5 rows x 52 columns]"
      ]
     },
     "execution_count": 4,
     "metadata": {},
     "output_type": "execute_result"
    }
   ],
   "source": [
    "df.head()"
   ]
  },
  {
   "cell_type": "code",
   "execution_count": 5,
   "id": "c645908d-9e3d-4607-a4ad-3fdf5edd8f90",
   "metadata": {},
   "outputs": [
    {
     "data": {
      "text/plain": [
       "Attack Type\n",
       "Benign            477737\n",
       "UDPFlood          457340\n",
       "HTTPFlood         140812\n",
       "SlowrateDoS        73124\n",
       "TCPConnectScan     20052\n",
       "SYNScan            20043\n",
       "UDPScan            15906\n",
       "SYNFlood            9721\n",
       "ICMPFlood           1155\n",
       "Name: count, dtype: int64"
      ]
     },
     "execution_count": 5,
     "metadata": {},
     "output_type": "execute_result"
    }
   ],
   "source": [
    "df[\"Attack Type\"].value_counts()"
   ]
  },
  {
   "cell_type": "code",
   "execution_count": 6,
   "id": "652982c7-e903-4172-936c-3fb567fa58c8",
   "metadata": {},
   "outputs": [
    {
     "data": {
      "image/png": "[encoded data removed]",
      "text/plain": [
       "<Figure size 800x600 with 1 Axes>"
      ]
     },
     "metadata": {},
     "output_type": "display_data"
    }
   ],
   "source": [
    "attack_counts = df[\"Attack Type\"].dropna().value_counts()\n",
    "attack_counts.index = attack_counts.index.astype(str)\n",
    "\n",
    "# Plot\n",
    "plt.figure(figsize=(8, 6))\n",
    "sns.barplot(x=attack_counts.index, y=attack_counts.values)\n",
    "plt.title(\"Attack Type Distribution\")\n",
    "plt.xlabel(\"Attack Type\")\n",
    "plt.ylabel(\"Count\")\n",
    "plt.xticks(rotation=45)\n",
    "plt.tight_layout()\n",
    "plt.show()"
   ]
  },
  {
   "cell_type": "code",
   "execution_count": 7,
   "id": "c3438316-42ce-4c80-833f-4ad7674db5ab",
   "metadata": {},
   "outputs": [
    {
     "data": {
      "text/plain": [
       "Label\n",
       "Malicious    738153\n",
       "Benign       477737\n",
       "Name: count, dtype: int64"
      ]
     },
     "execution_count": 7,
     "metadata": {},
     "output_type": "execute_result"
    }
   ],
   "source": [
    "df[\"Label\"].value_counts()"
   ]
  },
  {
   "cell_type": "code",
   "execution_count": 8,
   "id": "2ea21d9e-ab0c-4774-a465-6bc94a9618d4",
   "metadata": {},
   "outputs": [
    {
     "data": {
      "text/plain": [
       "Attack Tool\n",
       "Benign        477737\n",
       "Hping3        468216\n",
       "Goldeneye     140812\n",
       "Torshammer     59870\n",
       "Nmap           56001\n",
       "Slowloris      13254\n",
       "Name: count, dtype: int64"
      ]
     },
     "execution_count": 8,
     "metadata": {},
     "output_type": "execute_result"
    }
   ],
   "source": [
    "df[\"Attack Tool\"].value_counts()"
   ]
  },
  {
   "cell_type": "code",
   "execution_count": 9,
   "id": "6974404e-7ea3-42cf-aa1a-3f75e6046591",
   "metadata": {
    "scrolled": true
   },
   "outputs": [
    {
     "name": "stdout",
     "output_type": "stream",
     "text": [
      "<class 'pandas.core.frame.DataFrame'>\n",
      "RangeIndex: 1215890 entries, 0 to 1215889\n",
      "Data columns (total 52 columns):\n",
      " #   Column       Non-Null Count    Dtype  \n",
      "---  ------       --------------    -----  \n",
      " 0   Unnamed: 0   1215890 non-null  int64  \n",
      " 1   Seq          1215890 non-null  int64  \n",
      " 2   Dur          1215890 non-null  float64\n",
      " 3   RunTime      1215890 non-null  float64\n",
      " 4   Mean         1215890 non-null  float64\n",
      " 5   Sum          1215890 non-null  float64\n",
      " 6   Min          1215890 non-null  float64\n",
      " 7   Max          1215890 non-null  float64\n",
      " 8   Proto        1215890 non-null  object \n",
      " 9   sTos         1215676 non-null  float64\n",
      " 10  dTos         272823 non-null   float64\n",
      " 11  sDSb         1215676 non-null  object \n",
      " 12  dDSb         272823 non-null   object \n",
      " 13  sTtl         1215676 non-null  float64\n",
      " 14  dTtl         272823 non-null   float64\n",
      " 15  sHops        1215676 non-null  float64\n",
      " 16  dHops        272823 non-null   float64\n",
      " 17  Cause        1215890 non-null  object \n",
      " 18  TotPkts      1215890 non-null  int64  \n",
      " 19  SrcPkts      1215890 non-null  int64  \n",
      " 20  DstPkts      1215890 non-null  int64  \n",
      " 21  TotBytes     1215890 non-null  int64  \n",
      " 22  SrcBytes     1215890 non-null  int64  \n",
      " 23  DstBytes     1215890 non-null  int64  \n",
      " 24  Offset       1215890 non-null  int64  \n",
      " 25  sMeanPktSz   1215890 non-null  float64\n",
      " 26  dMeanPktSz   1215890 non-null  float64\n",
      " 27  Load         1215890 non-null  float64\n",
      " 28  SrcLoad      1215890 non-null  float64\n",
      " 29  DstLoad      1215890 non-null  float64\n",
      " 30  Loss         1215890 non-null  int64  \n",
      " 31  SrcLoss      1215890 non-null  int64  \n",
      " 32  DstLoss      1215890 non-null  int64  \n",
      " 33  pLoss        1215890 non-null  float64\n",
      " 34  SrcGap       278671 non-null   float64\n",
      " 35  DstGap       278671 non-null   float64\n",
      " 36  Rate         1215890 non-null  float64\n",
      " 37  SrcRate      1215890 non-null  float64\n",
      " 38  DstRate      1215890 non-null  float64\n",
      " 39  State        1215890 non-null  object \n",
      " 40  SrcWin       242420 non-null   float64\n",
      " 41  DstWin       177078 non-null   float64\n",
      " 42  sVid         114571 non-null   float64\n",
      " 43  dVid         2009 non-null     float64\n",
      " 44  SrcTCPBase   278671 non-null   float64\n",
      " 45  DstTCPBase   230047 non-null   float64\n",
      " 46  TcpRtt       1215890 non-null  float64\n",
      " 47  SynAck       1215890 non-null  float64\n",
      " 48  AckDat       1215890 non-null  float64\n",
      " 49  Label        1215890 non-null  object \n",
      " 50  Attack Type  1215890 non-null  object \n",
      " 51  Attack Tool  1215890 non-null  object \n",
      "dtypes: float64(32), int64(12), object(8)\n",
      "memory usage: 482.4+ MB\n"
     ]
    }
   ],
   "source": [
    "df.info()"
   ]
  },
  {
   "cell_type": "markdown",
   "id": "11ac7554-13b4-48cd-8cfc-1db2dbe389fa",
   "metadata": {},
   "source": [
    "## fixing column names"
   ]
  },
  {
   "cell_type": "code",
   "execution_count": 10,
   "id": "883e1236-1834-47e8-a7b3-842af22900a9",
   "metadata": {},
   "outputs": [],
   "source": [
    "df.columns = df.columns.str.strip()"
   ]
  },
  {
   "cell_type": "code",
   "execution_count": 11,
   "id": "0e0c9f02-1d7a-4990-963b-d1db7915cc4b",
   "metadata": {},
   "outputs": [],
   "source": [
    "df.drop(columns={\"Unnamed: 0\",\"Seq\"},inplace = True)"
   ]
  },
  {
   "cell_type": "markdown",
   "id": "099f0525-57be-47b2-9a40-b0149f414621",
   "metadata": {},
   "source": [
    "## removing duplicates"
   ]
  },
  {
   "cell_type": "code",
   "execution_count": 12,
   "id": "85711bfa-8f56-4a51-884e-deaafc93784a",
   "metadata": {},
   "outputs": [
    {
     "data": {
      "text/plain": [
       "np.int64(3358)"
      ]
     },
     "execution_count": 12,
     "metadata": {},
     "output_type": "execute_result"
    }
   ],
   "source": [
    "df.duplicated().sum()"
   ]
  },
  {
   "cell_type": "code",
   "execution_count": 13,
   "id": "4f5f0b3b-926b-4f56-9c0b-189b7cc9c691",
   "metadata": {},
   "outputs": [],
   "source": [
    "df.drop_duplicates(inplace=True)"
   ]
  },
  {
   "cell_type": "markdown",
   "id": "00d07e6e-14b2-4295-a3eb-653dd7fcde07",
   "metadata": {},
   "source": [
    "## Handling Missing Values"
   ]
  },
  {
   "cell_type": "code",
   "execution_count": 14,
   "id": "dfd775c4-54cd-4750-8739-97d76c2f9b42",
   "metadata": {},
   "outputs": [
    {
     "data": {
      "text/plain": [
       "Dur                  0\n",
       "RunTime              0\n",
       "Mean                 0\n",
       "Sum                  0\n",
       "Min                  0\n",
       "Max                  0\n",
       "Proto                0\n",
       "sTos               214\n",
       "dTos            939709\n",
       "sDSb               214\n",
       "dDSb            939709\n",
       "sTtl               214\n",
       "dTtl            939709\n",
       "sHops              214\n",
       "dHops           939709\n",
       "Cause                0\n",
       "TotPkts              0\n",
       "SrcPkts              0\n",
       "DstPkts              0\n",
       "TotBytes             0\n",
       "SrcBytes             0\n",
       "DstBytes             0\n",
       "Offset               0\n",
       "sMeanPktSz           0\n",
       "dMeanPktSz           0\n",
       "Load                 0\n",
       "SrcLoad              0\n",
       "DstLoad              0\n",
       "Loss                 0\n",
       "SrcLoss              0\n",
       "DstLoss              0\n",
       "pLoss                0\n",
       "SrcGap          933861\n",
       "DstGap          933861\n",
       "Rate                 0\n",
       "SrcRate              0\n",
       "DstRate              0\n",
       "State                0\n",
       "SrcWin          970112\n",
       "DstWin         1035454\n",
       "sVid           1099840\n",
       "dVid           1210523\n",
       "SrcTCPBase      933861\n",
       "DstTCPBase      982485\n",
       "TcpRtt               0\n",
       "SynAck               0\n",
       "AckDat               0\n",
       "Label                0\n",
       "Attack Type          0\n",
       "Attack Tool          0\n",
       "dtype: int64"
      ]
     },
     "execution_count": 14,
     "metadata": {},
     "output_type": "execute_result"
    }
   ],
   "source": [
    "df.isna().sum()"
   ]
  },
  {
   "cell_type": "code",
   "execution_count": 15,
   "id": "ea67c81d-d07f-4773-a602-2fe0c00abf07",
   "metadata": {},
   "outputs": [
    {
     "data": {
      "text/plain": [
       "\"\\nX = df.drop(columns=['Attack Type', 'Label', 'Attack Tool'])  \\ny = df['Attack Type']\\n\\n# fill NaNs with a value (median for numeric, mode for categorical) - (in X)\\nfor col in X.select_dtypes(include=['float64', 'int64']):\\n    X[col].fillna(X[col].median(), inplace=True)\\nfor col in X.select_dtypes(include=['object']):\\n    X[col].fillna('Unknown', inplace=True)\\n\\n# Convert categorical columns to category dtype or encode them\\nfor col in X.select_dtypes(include=['object']).columns:\\n    X[col] = X[col].astype('category').cat.codes\\n\\n# calc info gain\\nmi_scores = mutual_info_classif(X, y, discrete_features='auto', random_state=42)\\n\\nmi_df = pd.DataFrame({'Feature': X.columns, 'InfoGain': mi_scores})\\nmi_df = mi_df.sort_values(by='InfoGain', ascending=False)\\nprint(mi_df)\""
      ]
     },
     "execution_count": 15,
     "metadata": {},
     "output_type": "execute_result"
    }
   ],
   "source": [
    "from sklearn.feature_selection import mutual_info_classif\n",
    "'''\n",
    "X = df.drop(columns=['Attack Type', 'Label', 'Attack Tool'])  \n",
    "y = df['Attack Type']\n",
    "\n",
    "# fill NaNs with a value (median for numeric, mode for categorical) - (in X)\n",
    "for col in X.select_dtypes(include=['float64', 'int64']):\n",
    "    X[col].fillna(X[col].median(), inplace=True)\n",
    "for col in X.select_dtypes(include=['object']):\n",
    "    X[col].fillna('Unknown', inplace=True)\n",
    "\n",
    "# Convert categorical columns to category dtype or encode them\n",
    "for col in X.select_dtypes(include=['object']).columns:\n",
    "    X[col] = X[col].astype('category').cat.codes\n",
    "\n",
    "# calc info gain\n",
    "mi_scores = mutual_info_classif(X, y, discrete_features='auto', random_state=42)\n",
    "\n",
    "mi_df = pd.DataFrame({'Feature': X.columns, 'InfoGain': mi_scores})\n",
    "mi_df = mi_df.sort_values(by='InfoGain', ascending=False)\n",
    "print(mi_df)'''\n",
    "# importance of feats , to decide how to deal with missing values in some columns\n",
    "# too long run time "
   ]
  },
  {
   "cell_type": "code",
   "execution_count": 16,
   "id": "2f46964f-f4db-4600-8c63-6b799fe6012b",
   "metadata": {},
   "outputs": [],
   "source": [
    "#dropping unimportant feats with alot of missing values\n",
    "drop_cols = ['dVid', 'sVid', 'SrcGap', 'DstGap', 'dTos', 'pLoss', 'Loss', 'SrcLoss', 'DstLoss']\n",
    "df.drop(columns=drop_cols, inplace=True)"
   ]
  },
  {
   "cell_type": "code",
   "execution_count": 17,
   "id": "9098135d-b754-403c-bbaa-54ade0b32f2c",
   "metadata": {},
   "outputs": [],
   "source": [
    "# numirical feats - fill by median\n",
    "median_fill_cols = ['SrcTCPBase', 'DstTCPBase', 'SrcWin', 'DstWin', 'sTtl', 'dTtl', 'sHops', 'dHops']\n",
    "for col in median_fill_cols:\n",
    "    if col in df.columns:\n",
    "        df[col].fillna(df[col].median(), inplace=True)"
   ]
  },
  {
   "cell_type": "code",
   "execution_count": 18,
   "id": "4d6cc814-a673-4013-b1eb-fbce832aa6e5",
   "metadata": {},
   "outputs": [],
   "source": [
    "# for the cols with very few missing values - filling with mode or constant\n",
    "cols = ['sDSb', 'sTos']\n",
    "for col in cols:\n",
    "    if col in df.columns:\n",
    "        if df[col].dtype == 'object':\n",
    "            df[col] = df[col].fillna(df[col].mode()[0]) \n",
    "        else:\n",
    "            df[col] = df[col].fillna(df[col].median())  "
   ]
  },
  {
   "cell_type": "markdown",
   "id": "81f5b9dd-1a31-4c1b-bce7-f15eae6d89ef",
   "metadata": {},
   "source": [
    "### Label Encoding for catogrical feats and the target variable"
   ]
  },
  {
   "cell_type": "code",
   "execution_count": 19,
   "id": "866f4368-aba6-4d38-9efd-06d2f39a82e4",
   "metadata": {},
   "outputs": [],
   "source": [
    "le = LabelEncoder()\n",
    "for col in ['Attack Tool']:\n",
    "    if col in df.columns:\n",
    "        df[col] = le.fit_transform(df[col].astype(str))"
   ]
  },
  {
   "cell_type": "code",
   "execution_count": 20,
   "id": "d57b531c-75db-4508-b017-3797c8009f53",
   "metadata": {},
   "outputs": [],
   "source": [
    "# List your categorical columns\n",
    "cat_cols = ['Proto', 'State', 'Cause', 'sDSb', 'dDSb', 'Label']\n",
    "\n",
    "# Apply LabelEncoder to each\n",
    "le = LabelEncoder()\n",
    "for col in cat_cols:\n",
    "    df[col] = le.fit_transform(df[col].astype(str))  # Ensure string type"
   ]
  },
  {
   "cell_type": "code",
   "execution_count": 21,
   "id": "d7fcad79-03fe-4d4e-86b2-d6a6aa2c1c7c",
   "metadata": {},
   "outputs": [],
   "source": [
    "# also saving to inverse later\n",
    "df['Attack Type'] = le.fit_transform(df['Attack Type'].astype(str))\n",
    "attack_type_classes = le.classes_"
   ]
  },
  {
   "cell_type": "code",
   "execution_count": 22,
   "id": "d0f4f710-e0ff-4681-8d4a-82837934311f",
   "metadata": {},
   "outputs": [
    {
     "data": {
      "text/plain": [
       "Attack Type\n",
       "0    475510\n",
       "7    456214\n",
       "1    140812\n",
       "5     73124\n",
       "6     20052\n",
       "4     20043\n",
       "8     15901\n",
       "3      9721\n",
       "2      1155\n",
       "Name: count, dtype: int64"
      ]
     },
     "execution_count": 22,
     "metadata": {},
     "output_type": "execute_result"
    }
   ],
   "source": [
    "df[\"Attack Type\"].value_counts()"
   ]
  },
  {
   "cell_type": "markdown",
   "id": "71f02428-de9e-4b5a-9519-e51ca83748f0",
   "metadata": {},
   "source": [
    "## splitting into train test sets"
   ]
  },
  {
   "cell_type": "code",
   "execution_count": 23,
   "id": "3f7d77f6-bcab-434f-922a-1f381bcd94cc",
   "metadata": {},
   "outputs": [],
   "source": [
    "X = df.drop(columns=['Attack Type', 'Label', 'Attack Tool'])  # Exclude these\n",
    "y = df['Attack Type']\n",
    "\n",
    "X_train, X_test, y_train, y_test = train_test_split(X, y, test_size=0.2, stratify=y, random_state=42)"
   ]
  },
  {
   "cell_type": "markdown",
   "id": "793ffc0d-324c-44d8-9b70-165f27ebb7ac",
   "metadata": {},
   "source": [
    "### Standarizing"
   ]
  },
  {
   "cell_type": "code",
   "execution_count": 24,
   "id": "b31913d8-3f8a-4e5a-b1a1-86a84b718f0f",
   "metadata": {},
   "outputs": [],
   "source": [
    "categorical_encoded = ['Proto', 'State', 'Cause', 'sDSb', 'dDSb']\n",
    "numeric_cols = X.select_dtypes(include=['float64', 'int64']).columns\n",
    "features_to_scale = numeric_cols.difference(categorical_encoded)\n",
    "\n",
    "scaler = StandardScaler()\n",
    "\n",
    "X_train_scaled = X_train.copy()\n",
    "X_train_scaled[features_to_scale] = scaler.fit_transform(X_train[features_to_scale])\n",
    "\n",
    "X_test_scaled = X_test.copy()\n",
    "X_test_scaled[features_to_scale] = scaler.transform(X_test[features_to_scale])"
   ]
  },
  {
   "cell_type": "markdown",
   "id": "75289cf3-cdc8-45a1-ad88-07385326f5bd",
   "metadata": {},
   "source": [
    "### dimensionality reduction - PCA"
   ]
  },
  {
   "cell_type": "code",
   "execution_count": 25,
   "id": "0ec0fbe6-0b98-4c04-935d-23ab8106253c",
   "metadata": {},
   "outputs": [],
   "source": [
    "pca = PCA(n_components=0.95)\n",
    "\n",
    "X_train_pca = pca.fit_transform(X_train_scaled)\n",
    "X_test_pca = pca.transform(X_test_scaled)"
   ]
  },
  {
   "cell_type": "markdown",
   "id": "97442c53-473f-4179-8165-2248d676eaea",
   "metadata": {},
   "source": [
    "# modeling "
   ]
  },
  {
   "cell_type": "markdown",
   "id": "948880dc-b50a-43a5-8778-42ee48785f48",
   "metadata": {},
   "source": [
    "### Random Forest"
   ]
  },
  {
   "cell_type": "code",
   "execution_count": 26,
   "id": "d6a88be3-20fb-4130-8a92-281cba225c5d",
   "metadata": {},
   "outputs": [
    {
     "name": "stdout",
     "output_type": "stream",
     "text": [
      "Accuracy: 0.9785325784410347\n",
      "              precision    recall  f1-score   support\n",
      "\n",
      "           0       0.97      0.97      0.97     95102\n",
      "           1       0.99      1.00      1.00     28163\n",
      "           2       1.00      1.00      1.00       231\n",
      "           3       1.00      1.00      1.00      1944\n",
      "           4       1.00      1.00      1.00      4009\n",
      "           5       0.99      0.99      0.99     14625\n",
      "           6       1.00      1.00      1.00      4010\n",
      "           7       0.97      0.97      0.97     91243\n",
      "           8       1.00      1.00      1.00      3180\n",
      "\n",
      "    accuracy                           0.98    242507\n",
      "   macro avg       0.99      0.99      0.99    242507\n",
      "weighted avg       0.98      0.98      0.98    242507\n",
      "\n"
     ]
    }
   ],
   "source": [
    "clf = RandomForestClassifier(random_state=42)\n",
    "clf.fit(X_train_pca, y_train)\n",
    "\n",
    "y_pred = clf.predict(X_test_pca)\n",
    "\n",
    "print(\"Accuracy:\", accuracy_score(y_test, y_pred))\n",
    "print(classification_report(y_test, y_pred))\n"
   ]
  },
  {
   "cell_type": "code",
   "execution_count": 27,
   "id": "55b47309-534f-46d0-ae49-0e024725ab15",
   "metadata": {},
   "outputs": [
    {
     "data": {
      "image/png": "[encoded data removed]",
      "text/plain": [
       "<Figure size 800x600 with 2 Axes>"
      ]
     },
     "metadata": {},
     "output_type": "display_data"
    }
   ],
   "source": [
    "from sklearn.metrics import confusion_matrix, ConfusionMatrixDisplay\n",
    "import matplotlib.pyplot as plt\n",
    "\n",
    "# cm\n",
    "cm = confusion_matrix(y_test, y_pred)\n",
    "\n",
    "# Plot\n",
    "disp = ConfusionMatrixDisplay(confusion_matrix=cm, display_labels=sorted(y_test.unique()))\n",
    "fig, ax = plt.subplots(figsize=(8, 6))\n",
    "disp.plot(ax=ax, cmap='Blues', xticks_rotation=45)\n",
    "plt.title(\"Confusion Matrix - Random Forest\")\n",
    "plt.grid(False)\n",
    "plt.tight_layout()\n",
    "plt.show()\n"
   ]
  },
  {
   "cell_type": "markdown",
   "id": "f0590132-06f5-46b1-bc45-bbf7eedb2ddc",
   "metadata": {},
   "source": [
    "### XGBoost Classifier"
   ]
  },
  {
   "cell_type": "code",
   "execution_count": 28,
   "id": "a57926a5-4327-48a4-938e-1e026ffc60e7",
   "metadata": {},
   "outputs": [
    {
     "name": "stdout",
     "output_type": "stream",
     "text": [
      "Accuracy: 0.9836911924191879\n",
      "              precision    recall  f1-score   support\n",
      "\n",
      "           0       1.00      0.97      0.98     95102\n",
      "           1       0.99      1.00      1.00     28163\n",
      "           2       1.00      1.00      1.00       231\n",
      "           3       1.00      1.00      1.00      1944\n",
      "           4       1.00      1.00      1.00      4009\n",
      "           5       0.99      0.99      0.99     14625\n",
      "           6       1.00      1.00      1.00      4010\n",
      "           7       0.97      1.00      0.98     91243\n",
      "           8       1.00      1.00      1.00      3180\n",
      "\n",
      "    accuracy                           0.98    242507\n",
      "   macro avg       0.99      0.99      0.99    242507\n",
      "weighted avg       0.98      0.98      0.98    242507\n",
      "\n"
     ]
    }
   ],
   "source": [
    "xgb_clf = XGBClassifier(random_state=42, use_label_encoder=False, eval_metric='mlogloss')\n",
    "xgb_clf.fit(X_train_pca, y_train)\n",
    "\n",
    "y_pred_xgb = xgb_clf.predict(X_test_pca)\n",
    "\n",
    "print(\"Accuracy:\", accuracy_score(y_test, y_pred_xgb))\n",
    "print(classification_report(y_test, y_pred_xgb))"
   ]
  },
  {
   "cell_type": "code",
   "execution_count": 29,
   "id": "ec5c4a37-3628-498b-8523-f98b1005d363",
   "metadata": {},
   "outputs": [
    {
     "data": {
      "image/png": "[encoded data removed]",
      "text/plain": [
       "<Figure size 800x600 with 2 Axes>"
      ]
     },
     "metadata": {},
     "output_type": "display_data"
    }
   ],
   "source": [
    "cm = confusion_matrix(y_test, y_pred_xgb)\n",
    "\n",
    "disp = ConfusionMatrixDisplay(confusion_matrix=cm, display_labels=sorted(y_test.unique()))\n",
    "fig, ax = plt.subplots(figsize=(8, 6))\n",
    "disp.plot(ax=ax, cmap='Blues', xticks_rotation=45)\n",
    "plt.title(\"Confusion Matrix - XGBoost\")\n",
    "plt.grid(False)\n",
    "plt.tight_layout()\n",
    "plt.show()"
   ]
  },
  {
   "cell_type": "markdown",
   "id": "c901ce5a-bf8a-46c5-9d32-8ca4989b2ca6",
   "metadata": {},
   "source": [
    "### k-cross validation to insure no overfitting "
   ]
  },
  {
   "cell_type": "code",
   "execution_count": 30,
   "id": "2fc9f282-87b6-428d-b9d9-a20695a6f8c2",
   "metadata": {},
   "outputs": [
    {
     "name": "stdout",
     "output_type": "stream",
     "text": [
      "Cross-Validation Accuracy Scores: [0.98341079 0.98317162 0.98402101 0.98380246 0.98374061]\n",
      "Mean Accuracy: 0.9836292985885645\n",
      "Standard Deviation: 0.0003010093913214845\n"
     ]
    }
   ],
   "source": [
    "# combining for k cross validation\n",
    "X_pca = np.vstack((X_train_pca, X_test_pca))\n",
    "y_all = np.hstack((y_train, y_test))\n",
    "\n",
    "xgb_clf = XGBClassifier(random_state=42, use_label_encoder=False, eval_metric='mlogloss')\n",
    "\n",
    "# 5 folds\n",
    "kf = StratifiedKFold(n_splits=5, shuffle=True, random_state=42)\n",
    "\n",
    "# accuracy scores from each fold\n",
    "scores = cross_val_score(xgb_clf, X_pca, y_all, cv=kf, scoring='accuracy')\n",
    "\n",
    "print(\"Cross-Validation Accuracy Scores:\", scores)\n",
    "print(\"Mean Accuracy:\", np.mean(scores))\n",
    "print(\"Standard Deviation:\", np.std(scores))"
   ]
  },
  {
   "cell_type": "code",
   "execution_count": null,
   "id": "70a24779-c5f9-469f-9bc6-3a6f837b6d72",
   "metadata": {},
   "outputs": [],
   "source": []
  }
 ],
 "metadata": {
  "kernelspec": {
   "display_name": "Python [conda env:base] *",
   "language": "python",
   "name": "conda-base-py"
  },
  "language_info": {
   "codemirror_mode": {
    "name": "ipython",
    "version": 3
   },
   "file_extension": ".py",
   "mimetype": "text/x-python",
   "name": "python",
   "nbconvert_exporter": "python",
   "pygments_lexer": "ipython3",
   "version": "3.13.5"
  }
 },
 "nbformat": 4,
 "nbformat_minor": 5
}
